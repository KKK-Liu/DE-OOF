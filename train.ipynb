{
 "cells": [
  {
   "cell_type": "code",
   "execution_count": 1,
   "metadata": {},
   "outputs": [
    {
     "name": "stdout",
     "output_type": "stream",
     "text": [
      "de-OOF\\.gitignore\n",
      "de-OOF\\auto_stop.py\n",
      "de-OOF\\comp_data.csv\n",
      "de-OOF\\datalist_gopro.txt\n",
      "de-OOF\\dataset_generation.py\n",
      "de-OOF\\eval.py\n",
      "de-OOF\\eval_advanced.py\n",
      "de-OOF\\eval_time.txt\n",
      "de-OOF\\h5related.py\n",
      "de-OOF\\LICENSE\n",
      "de-OOF\\pro.py\n",
      "de-OOF\\pro_eval.py\n",
      "de-OOF\\README.md\n",
      "de-OOF\\requirements.txt\n",
      "de-OOF\\sub_image.py\n",
      "de-OOF\\tool.py\n",
      "de-OOF\\train.ipynb\n",
      "de-OOF\\train.py\n",
      "de-OOF\\train_gopro_gamma.list\n",
      "de-OOF\\val_gopro_gamma.list\n",
      "de-OOF\\visualize.py\n",
      "de-OOF\\arguments\\arguments_eval.py\n",
      "de-OOF\\arguments\\arguments_train.py\n",
      "de-OOF\\dataloader\\dataloader_paired.py\n",
      "de-OOF\\dataloader\\dataloader_paired_3.py\n",
      "de-OOF\\dataloader\\dataloader_paired_4.py\n",
      "de-OOF\\dataloader\\__init__.py\n",
      "de-OOF\\models\\ATT_Deblur_model.py\n",
      "de-OOF\\models\\ATT_Deblur_model_all_level.py\n",
      "de-OOF\\models\\ATT_model.py\n",
      "de-OOF\\models\\base_model_new.py\n",
      "de-OOF\\models\\deoof.py\n",
      "de-OOF\\models\\Network.py\n",
      "de-OOF\\models\\__init__.py\n",
      "de-OOF\\models\\old\\ATT_Deblur_model_level1.py\n",
      "de-OOF\\models\\old\\ATT_Deblur_model_level1_down.py\n",
      "de-OOF\\models\\old\\ATT_Deblur_model_level2.py\n",
      "de-OOF\\models\\old\\ATT_Deblur_model_level3.py\n",
      "de-OOF\\models\\old\\ATT_Deblur_model_level4.py\n",
      "de-OOF\\models\\old\\base_model.py\n",
      "de-OOF\\models\\old\\SRNATTS_model.py\n",
      "de-OOF\\models\\old\\SRNATT_model.py\n",
      "de-OOF\\models\\old\\SRN_model.py\n",
      "de-OOF\\models\\old\\UNet_model.py\n",
      "de-OOF\\scripts\\Deblur_Att_level1.sh\n",
      "de-OOF\\scripts\\Deblur_Att_level2.sh\n",
      "de-OOF\\scripts\\Deblur_Att_level3.sh\n",
      "de-OOF\\scripts\\Deblur_Att_level4.sh\n",
      "de-OOF\\scripts\\gopro.sh\n",
      "de-OOF\\scripts\\old\\ATT.sh\n",
      "de-OOF\\scripts\\old\\Deblur_Att.sh\n",
      "de-OOF\\scripts\\old\\Deblur_Att_level1.sh\n",
      "de-OOF\\scripts\\old\\Deblur_Att_level2.sh\n",
      "de-OOF\\scripts\\old\\Deblur_Att_level3.sh\n",
      "de-OOF\\scripts\\old\\Deblur_Att_level4.sh\n",
      "de-OOF\\scripts\\old\\SRN.sh\n",
      "de-OOF\\scripts\\old\\SRNATT.sh\n",
      "de-OOF\\scripts\\old\\SRNATTS.sh\n",
      "de-OOF\\scripts\\old\\UNet.sh\n",
      "de-OOF\\utils\\Log.py\n",
      "de-OOF\\utils\\loss_function.py\n",
      "de-OOF\\utils\\metrics.py\n",
      "de-OOF\\utils\\utils.py\n"
     ]
    }
   ],
   "source": [
    "import os\n",
    "def make_zip(source_dir:str, output_filename):\n",
    "    import zipfile\n",
    "    \n",
    "    ignored_dirlist = [\n",
    "        'data',\n",
    "        'logs',\n",
    "        'results',\n",
    "        'ref-codes',\n",
    "        'wandb',\n",
    "        '.git',\n",
    "        'TmpImages',\n",
    "        '__pycache__',\n",
    "        'checkpoints',\n",
    "        'plots_npy',\n",
    "    ]\n",
    "    \n",
    "    # ignored_dirlist = [\n",
    "    #     'p3'\n",
    "    # ]\n",
    "    source_dir = source_dir.replace('/','\\\\')\n",
    "    \n",
    "    zipf = zipfile.ZipFile(output_filename, 'w')\n",
    "    pre_len = len(os.path.dirname(source_dir))\n",
    "    for parent, dirnames, filenames in os.walk(source_dir):\n",
    "        # parent:str\n",
    "        # if os.path.split(parent)[1] in ignored_dirlist:\n",
    "        #     continue\n",
    "        f = False\n",
    "        for ignore_dir in ignored_dirlist:\n",
    "            if '\\\\{}\\\\'.format(ignore_dir) in parent:\n",
    "                f = True\n",
    "                break\n",
    "            if parent.endswith('\\\\{}'.format(ignore_dir)):\n",
    "                f = True\n",
    "                break\n",
    "        if f:\n",
    "            continue\n",
    "        for filename in filenames:\n",
    "            # if filename == output_filename:\n",
    "            #     continue\n",
    "            \n",
    "            pathfile = os.path.join(parent, filename)\n",
    "            arcname = pathfile[pre_len:].strip(os.path.sep)  # 相对路径\n",
    "            \n",
    "            zipf.write(pathfile, arcname)\n",
    "            print(arcname)\n",
    "        # print()\n",
    "    zipf.close()\n",
    "    \n",
    "make_zip('D:/desktop\\\\de-OOF', 'D:/desktop/code.zip')"
   ]
  },
  {
   "cell_type": "code",
   "execution_count": null,
   "metadata": {},
   "outputs": [],
   "source": [
    "!python pro.py --data_root \"~/autodl-tmp/data/CRC-02-01-22-27\" --name ATT_Deblur_Net_level_all_level1 --level 1 --model ATT_Deblur_Net_level_all_level --gpu_id 0"
   ]
  },
  {
   "cell_type": "code",
   "execution_count": null,
   "metadata": {},
   "outputs": [],
   "source": [
    "!python pro.py --data_root \"~/autodl-tmp/data/CRC-02-01-22-27\" --name ATT_Deblur_Net_level_all_level2 --level 2 --model ATT_Deblur_Net_level_all_level --gpu_id 1"
   ]
  },
  {
   "cell_type": "code",
   "execution_count": null,
   "metadata": {},
   "outputs": [],
   "source": [
    "!python pro.py --data_root \"~/autodl-tmp/data/CRC-02-01-22-27\" --name ATT_Deblur_Net_level_all_level3 --level 3 --model ATT_Deblur_Net_level_all_level --gpu_id 2"
   ]
  },
  {
   "cell_type": "code",
   "execution_count": null,
   "metadata": {},
   "outputs": [],
   "source": [
    "!python pro.py --data_root \"~/autodl-tmp/data/CRC-02-01-22-27\" --name ATT_Deblur_Net_level_all_level4 --level 4 --model ATT_Deblur_Net_level_all_level --gpu_id 3"
   ]
  }
 ],
 "metadata": {
  "kernelspec": {
   "display_name": "py310",
   "language": "python",
   "name": "python3"
  },
  "language_info": {
   "codemirror_mode": {
    "name": "ipython",
    "version": 3
   },
   "file_extension": ".py",
   "mimetype": "text/x-python",
   "name": "python",
   "nbconvert_exporter": "python",
   "pygments_lexer": "ipython3",
   "version": "3.10.0"
  },
  "orig_nbformat": 4,
  "vscode": {
   "interpreter": {
    "hash": "aa4a20c6357daa7572b143769b88bb145ab6616b6ddbf838d48195ad85c17ce4"
   }
  }
 },
 "nbformat": 4,
 "nbformat_minor": 2
}
