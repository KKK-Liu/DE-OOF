{
 "cells": [
  {
   "cell_type": "code",
   "execution_count": null,
   "metadata": {},
   "outputs": [],
   "source": [
    "!unzip ~/autodl-nas/CRC-02-01-22-27.zip -d ~/autodl-tmp/data\n",
    "!chmod 777 ./scripts/Deblur_Att_level1.sh\n",
    "!chmod 777 ./scripts/Deblur_Att_level2.sh\n",
    "!chmod 777 ./scripts/Deblur_Att_level3.sh\n",
    "!chmod 777 ./scripts/Deblur_Att_level4.sh"
   ]
  },
  {
   "cell_type": "code",
   "execution_count": null,
   "metadata": {},
   "outputs": [],
   "source": [
    "!chmod 777 ./scripts/Deblur_Att_level1.sh\n",
    "!chmod 777 ./scripts/Deblur_Att_level2.sh\n",
    "!chmod 777 ./scripts/Deblur_Att_level3.sh\n",
    "!chmod 777 ./scripts/Deblur_Att_level4.sh"
   ]
  }
 ],
 "metadata": {
  "kernelspec": {
   "display_name": "py310",
   "language": "python",
   "name": "python3"
  },
  "language_info": {
   "name": "python",
   "version": "3.10.0"
  },
  "orig_nbformat": 4,
  "vscode": {
   "interpreter": {
    "hash": "aa4a20c6357daa7572b143769b88bb145ab6616b6ddbf838d48195ad85c17ce4"
   }
  }
 },
 "nbformat": 4,
 "nbformat_minor": 2
}
